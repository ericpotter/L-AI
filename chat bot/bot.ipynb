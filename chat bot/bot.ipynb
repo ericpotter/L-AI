{
 "cells": [
  {
   "cell_type": "code",
   "execution_count": 1,
   "metadata": {},
   "outputs": [
    {
     "name": "stderr",
     "output_type": "stream",
     "text": [
      "c:\\Users\\26855\\anaconda3\\envs\\AI\\Lib\\site-packages\\tqdm\\auto.py:21: TqdmWarning: IProgress not found. Please update jupyter and ipywidgets. See https://ipywidgets.readthedocs.io/en/stable/user_install.html\n",
      "  from .autonotebook import tqdm as notebook_tqdm\n"
     ]
    },
    {
     "data": {
      "text/markdown": [
       "> Artificial intelligence (AI) is the simulation of human intelligence processes by machines, especially computer systems. It is a branch within computer science that attempts to understand and create intelligent agents, which are systems that can reason, learn, and act autonomously.\n",
       "> \n",
       "> AI research has been highly successful in developing effective techniques for solving a wide range of problems, from game playing to medical diagnosis. However, AI is still a very young field, and there are many fundamental challenges that remain to be solved.\n",
       "> \n",
       "> One of the most important challenges in AI is the development of common sense knowledge. Humans possess a vast amount of common sense knowledge that allows them to reason about the world in a flexible and efficient way. Machines, on the other hand, have very limited common sense knowledge, and this makes it difficult for them to perform many tasks that are easy for humans.\n",
       "> \n",
       "> Another major challenge in AI is the development of algorithms that can learn from data. Humans have a remarkable ability to learn from experience, and this is one of the key factors that makes them so intelligent. Machines, on the other hand, are not able to learn from data in the same way that humans do. This makes it difficult for them to perform tasks that require learning, such as natural language processing and image recognition.\n",
       "> \n",
       "> Despite these challenges, AI is a rapidly growing field, and there is a great deal of optimism about its potential. AI is expected to have a major impact on many areas of our lives, from healthcare to transportation to manufacturing.\n",
       "> \n",
       "> Here are some examples of AI applications:\n",
       "> \n",
       "> * **Natural language processing:** AI systems can now understand and generate human language with a high degree of accuracy. This is making it possible for machines to interact with humans in a more natural way, and to perform tasks such as customer service and medical diagnosis.\n",
       "> * **Image recognition:** AI systems can now recognize objects and faces in images with a high degree of accuracy. This is making it possible for machines to perform tasks such as self-driving cars and medical diagnosis.\n",
       "> * **Machine learning:** AI systems can now learn from data without being explicitly programmed. This is making it possible for machines to perform tasks such as fraud detection and predictive maintenance.\n",
       "> * **Robotics:** AI systems are now being used to control robots. This is making it possible for robots to perform tasks such as manufacturing and surgery.\n",
       "> \n",
       "> AI is still a very young field, but it has the potential to revolutionize many aspects of our lives. As AI research continues to progress, we can expect to see even more amazing applications of AI in the years to come."
      ],
      "text/plain": [
       "<IPython.core.display.Markdown object>"
      ]
     },
     "execution_count": 1,
     "metadata": {},
     "output_type": "execute_result"
    }
   ],
   "source": [
    "import pathlib\n",
    "import textwrap\n",
    "import google.generativeai as genai\n",
    "from IPython.display import display\n",
    "from IPython.display import Markdown\n",
    "import os\n",
    "from dotenv import load_dotenv, find_dotenv\n",
    "\n",
    "_ = load_dotenv(find_dotenv()) # read local .env file\n",
    "genai.configure(api_key=os.environ.get(\"GEMINI_API_KEY\"),)\n",
    "\n",
    "\n",
    "def to_markdown(text):\n",
    "    text = text.replace('•', '  *')\n",
    "    return Markdown(textwrap.indent(text, '> ', predicate=lambda _: True))\n",
    "\n",
    "\n",
    "model = genai.GenerativeModel('gemini-pro')\n",
    "chat = model.start_chat(history=[])\n",
    "response = chat.send_message(\"what is AI\")\n",
    "to_markdown(response.text)\n",
    "\n"
   ]
  }
 ],
 "metadata": {
  "kernelspec": {
   "display_name": "AI",
   "language": "python",
   "name": "python3"
  },
  "language_info": {
   "codemirror_mode": {
    "name": "ipython",
    "version": 3
   },
   "file_extension": ".py",
   "mimetype": "text/x-python",
   "name": "python",
   "nbconvert_exporter": "python",
   "pygments_lexer": "ipython3",
   "version": "3.12.3"
  }
 },
 "nbformat": 4,
 "nbformat_minor": 2
}
