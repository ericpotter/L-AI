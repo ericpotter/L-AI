{
 "cells": [
  {
   "cell_type": "code",
   "execution_count": 6,
   "metadata": {},
   "outputs": [
    {
     "name": "stdout",
     "output_type": "stream",
     "text": [
      "Artificial Intelligence (AI)\n",
      "\n",
      "Definition:\n",
      "Artificial intelligence refers to the simulation of human intelligence processes by machines, particularly computer systems. It involves the development of algorithms and models that enable machines to perform tasks that typically require human intelligence, such as understanding language, solving problems, and making decisions.\n",
      "\n",
      "Key Features:\n",
      "\n",
      " Autonomy: AI systems can execute tasks independently, without explicit human intervention.\n",
      " Learning: AI algorithms can adapt and improve their performance based on experience or data.\n",
      " Problem-solving: AI systems can analyze complex problems, identify patterns, and develop solutions.\n",
      " Natural language understanding: AI models can interpret and generate human language.\n",
      " Decision-making: AI algorithms can evaluate information, weigh options, and make informed decisions.\n",
      "\n",
      "Types of AI:\n",
      "\n",
      " Narrow AI (ANI): Specialized AI systems designed to perform specific tasks, such as image recognition or language translation.\n",
      " General AI (AGI): AI systems that can perform a wide range of tasks comparable to human intelligence.\n",
      " Super AI (ASI): Hypothetical AI systems that surpass human intelligence in all or most cognitive domains.\n",
      "\n",
      "Applications:\n",
      "\n",
      "AI has numerous applications across various industries and domains, including:\n",
      "\n",
      " Healthcare (medical diagnosis, drug discovery)\n",
      " Finance (risk assessment, fraud detection)\n",
      " Manufacturing (quality control, predictive maintenance)\n",
      " Transportation (autonomous vehicles, traffic optimization)\n",
      " Customer service (chatbots, virtual assistants)\n",
      " Education (personalized learning, intelligent tutoring)\n",
      "\n",
      "Benefits:\n",
      "\n",
      " Increased efficiency: AI can automate tasks, freeing up humans for more complex work.\n",
      " Improved decision-making: AI algorithms can objectively analyze large amounts of data to provide insights and recommendations.\n",
      " Enhanced customer experiences: AI-powered chatbots and virtual assistants can provide 24/7 support and personalized interactions.\n",
      " Innovation: AI can drive new product and service development by identifying patterns and creating solutions not possible through human intuition alone.\n",
      " Augmentation of human capabilities: AI can enhance human abilities by providing access to specialized knowledge and analytical tools.\n",
      "\n",
      "Challenges:\n",
      "\n",
      " Ethical concerns: AI raises ethical questions about job displacement, privacy, and the potential for bias or discrimination.\n",
      " Data availability and quality: AI algorithms require large and accurate datasets to train effectively.\n",
      " Interpretability: Understanding how AI models make decisions can be challenging, which can hinder their acceptance and trust.\n",
      " Regulation: Establishing clear regulations for the development and use of AI is crucial to ensure safety, fairness, and accountability.\n"
     ]
    }
   ],
   "source": [
    "import pathlib\n",
    "import textwrap\n",
    "import google.generativeai as genai\n",
    "from IPython.display import display\n",
    "from IPython.display import Markdown\n",
    "import os\n",
    "from dotenv import load_dotenv, find_dotenv\n",
    "\n",
    "_ = load_dotenv(find_dotenv()) # read local .env file\n",
    "genai.configure(api_key=os.environ.get(\"GEMINI_API_KEY\"),)\n",
    "\n",
    "\n",
    "def to_markdown(text):\n",
    "    text = text.replace('•', '  *')\n",
    "    return Markdown(textwrap.indent(text, '> ', predicate=lambda _: True))\n",
    "\n",
    "\n",
    "model = genai.GenerativeModel('gemini-pro')\n",
    "chat = model.start_chat(history=[])\n",
    "response = chat.send_message(\"what is ai\")\n",
    "text = response.text\n",
    "print(text.replace(\"*\", \"\"))\n",
    "\n"
   ]
  }
 ],
 "metadata": {
  "kernelspec": {
   "display_name": "AI",
   "language": "python",
   "name": "python3"
  },
  "language_info": {
   "codemirror_mode": {
    "name": "ipython",
    "version": 3
   },
   "file_extension": ".py",
   "mimetype": "text/x-python",
   "name": "python",
   "nbconvert_exporter": "python",
   "pygments_lexer": "ipython3",
   "version": "3.12.3"
  }
 },
 "nbformat": 4,
 "nbformat_minor": 2
}
