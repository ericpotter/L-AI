{
 "cells": [
  {
   "cell_type": "code",
   "execution_count": 12,
   "metadata": {},
   "outputs": [
    {
     "name": "stdout",
     "output_type": "stream",
     "text": [
      "A computer is an electronic device that can be programmed to carry out a set of\n",
      "________________________________________________________________________________\n",
      " instructions. It consists of hardware, which includes the physical components such as the processor, memory, and storage devices, and software, which is the set of instructions\n",
      "________________________________________________________________________________\n",
      " that tells the computer what to do. The processor, also known as the central processing unit (CPU), is the brain of the computer and controls all of its operations. The memory stores the instructions and data that the computer is currently working on, while the storage devices store data that is not currently being used. The computer\n",
      "________________________________________________________________________________\n",
      " follows the instructions in the software to perform a variety of tasks, such as running applications, processing data, and communicating with other devices.\n",
      "\n",
      "To put it simply, a computer is a machine that can be programmed to do many different things, from playing games to writing documents to controlling robots. It is made up of many different parts, including a processor, memory, and storage devices, which work together to follow the instructions in the software.\n",
      "________________________________________________________________________________\n"
     ]
    },
    {
     "data": {
      "text/markdown": [
       "> **user**: In one sentence, explain how a computer works to a young child."
      ],
      "text/plain": [
       "<IPython.core.display.Markdown object>"
      ]
     },
     "metadata": {},
     "output_type": "display_data"
    },
    {
     "data": {
      "text/markdown": [
       "> **model**: A computer is like a very smart helper that uses electricity to store information and do things we tell it to do."
      ],
      "text/plain": [
       "<IPython.core.display.Markdown object>"
      ]
     },
     "metadata": {},
     "output_type": "display_data"
    },
    {
     "data": {
      "text/markdown": [
       "> **user**: Okay, how about a more detailed explanation to a high schooler?"
      ],
      "text/plain": [
       "<IPython.core.display.Markdown object>"
      ]
     },
     "metadata": {},
     "output_type": "display_data"
    },
    {
     "data": {
      "text/markdown": [
       "> **model**: A computer is an electronic device that can be programmed to carry out a set of instructions. It consists of hardware, which includes the physical components such as the processor, memory, and storage devices, and software, which is the set of instructions that tells the computer what to do. The processor, also known as the central processing unit (CPU), is the brain of the computer and controls all of its operations. The memory stores the instructions and data that the computer is currently working on, while the storage devices store data that is not currently being used. The computer follows the instructions in the software to perform a variety of tasks, such as running applications, processing data, and communicating with other devices.\n",
       "> \n",
       "> To put it simply, a computer is a machine that can be programmed to do many different things, from playing games to writing documents to controlling robots. It is made up of many different parts, including a processor, memory, and storage devices, which work together to follow the instructions in the software."
      ],
      "text/plain": [
       "<IPython.core.display.Markdown object>"
      ]
     },
     "metadata": {},
     "output_type": "display_data"
    }
   ],
   "source": [
    "import pathlib\n",
    "import textwrap\n",
    "import google.generativeai as genai\n",
    "from IPython.display import display\n",
    "from IPython.display import Markdown\n",
    "import os\n",
    "from dotenv import load_dotenv, find_dotenv\n",
    "\n",
    "_ = load_dotenv(find_dotenv()) # read local .env file\n",
    "genai.configure(api_key=os.environ.get(\"GEMINI_API_KEY\"),)\n",
    "\n",
    "\n",
    "def to_markdown(text):\n",
    "    text = text.replace('•', '  *')\n",
    "    return Markdown(textwrap.indent(text, '> ', predicate=lambda _: True))\n",
    "\n",
    "\n",
    "model = genai.GenerativeModel('gemini-pro')\n",
    "chat = model.start_chat(history=[])\n",
    "response = chat.send_message(\"In one sentence, explain how a computer works to a young child.\")\n",
    "to_markdown(response.text)\n",
    "\n",
    "\n",
    "response = chat.send_message(\"Okay, how about a more detailed explanation to a high schooler?\", stream=True)\n",
    "\n",
    "for chunk in response:\n",
    "    print(chunk.text)\n",
    "    print(\"_\"*80)\n",
    "\n",
    "for message in chat.history:\n",
    "    display(to_markdown(f'**{message.role}**: {message.parts[0].text}'))\n"
   ]
  }
 ],
 "metadata": {
  "kernelspec": {
   "display_name": "AI",
   "language": "python",
   "name": "python3"
  },
  "language_info": {
   "codemirror_mode": {
    "name": "ipython",
    "version": 3
   },
   "file_extension": ".py",
   "mimetype": "text/x-python",
   "name": "python",
   "nbconvert_exporter": "python",
   "pygments_lexer": "ipython3",
   "version": "3.12.3"
  }
 },
 "nbformat": 4,
 "nbformat_minor": 2
}
