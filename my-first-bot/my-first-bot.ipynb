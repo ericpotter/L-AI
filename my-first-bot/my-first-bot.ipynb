{
 "cells": [
  {
   "cell_type": "code",
   "execution_count": 16,
   "metadata": {},
   "outputs": [],
   "source": [
    "import os\n",
    "import openai\n",
    "from dotenv import load_dotenv, find_dotenv\n",
    "_ = load_dotenv(find_dotenv()) # read local .env file\n",
    "\n",
    "openai.api_key = os.getenv('OPENAI_API_KEY')\n",
    "\n",
    "#openai.api_key = \"your_OPENAI_API_KEY\"\n"
   ]
  },
  {
   "cell_type": "code",
   "execution_count": 17,
   "metadata": {},
   "outputs": [
    {
     "name": "stdout",
     "output_type": "stream",
     "text": [
      "sk-proj-8ygZhvZ1KN3NOlj58RcgT3BlbkFJViYpMQ5LbvjJaqA6uMKU\n"
     ]
    }
   ],
   "source": [
    "print (openai.api_key)"
   ]
  },
  {
   "cell_type": "code",
   "execution_count": 39,
   "metadata": {},
   "outputs": [],
   "source": [
    "def get_completion(prompt, model=\"gpt-3.5-turbo\"):\n",
    "    messages = [{\"role\": \"user\", \"content\": prompt}]\n",
    "    response = openai.ChatCompletion.create(\n",
    "        model=model,\n",
    "        messages=messages,\n",
    "        temperature=0, # 這個參數決定了模型輸出的隨機程度\n",
    "    )\n",
    "    return response.choices[0].message[\"content\"]\n",
    "\n",
    "def get_completion_from_messages(messages, model=\"gpt-3.5-turbo\", temperature=0):\n",
    "    # 呼叫 OpenAI chat completion API\n",
    "    response = openai.ChatCompletion.create(\n",
    "        model=model,\n",
    "        messages=messages,\n",
    "        temperature=temperature, # 這個參數決定了模型輸出的隨機程度\n",
    "    )\n",
    "\n",
    "    # print(str(response.choices[0].message))\n",
    "    # 回傳模型生成的回應\n",
    "    return response.choices[0].message.content"
   ]
  },
  {
   "attachments": {},
   "cell_type": "markdown",
   "metadata": {},
   "source": [
    "##### 我們的第一個對話\n",
    "請特別注意下方 system 角色的設定，它是建立你專屬聊天機器人很重要的一環。"
   ]
  },
  {
   "cell_type": "code",
   "execution_count": 36,
   "metadata": {},
   "outputs": [],
   "source": [
    "messages =  [  \n",
    "    {'role':'system', 'content':'你就像唐朝大詩人李白一樣，請使用四言絕句來跟我做回應。'},    \n",
    "    {'role':'user', 'content':'你好'},   \n",
    "    {'role':'assistant', 'content':'兄臺別來無恙'},   \n",
    "    {'role':'user', 'content':'我很好，今天你打算去哪裏？'}  \n",
    "]"
   ]
  },
  {
   "cell_type": "code",
   "execution_count": null,
   "metadata": {},
   "outputs": [],
   "source": [
    "response = get_completion_from_messages(messages, temperature=0)\n",
    "print(response)"
   ]
  },
  {
   "attachments": {},
   "cell_type": "markdown",
   "metadata": {},
   "source": [
    "##### 範例二\n",
    "最基本的對話就是這樣開始的，設定好 system 後，使用者打了招呼後，讓 Chat completion 來回應。"
   ]
  },
  {
   "cell_type": "code",
   "execution_count": null,
   "metadata": {},
   "outputs": [],
   "source": [
    "messages =  [  \n",
    "{'role':'system', 'content':'你是一個很有禮貌的聊天機器人。'},    \n",
    "{'role':'user', 'content':'你好，我是 Ted。'}  ]\n",
    "response = get_completion_from_messages(messages, temperature=1)\n",
    "print(response)"
   ]
  },
  {
   "attachments": {},
   "cell_type": "markdown",
   "metadata": {},
   "source": [
    "##### 範例三\n",
    "訊息串就是讓 chat completion 有記憶的方式。這個範例可以看出來，它對使用者其實是毫無所知的。"
   ]
  },
  {
   "cell_type": "code",
   "execution_count": 7,
   "metadata": {},
   "outputs": [
    {
     "name": "stdout",
     "output_type": "stream",
     "text": [
      "您的名字應該是使用者。\n"
     ]
    }
   ],
   "source": [
    "messages =  [  \n",
    "{'role':'system', 'content':'你是一個很有禮貌的聊天機器人。'},    \n",
    "{'role':'user', 'content':'對了~ 提醒我一下，我的名字是什麼呢？'}  ]\n",
    "response = get_completion_from_messages(messages, temperature=1)\n",
    "print(response)"
   ]
  },
  {
   "attachments": {},
   "cell_type": "markdown",
   "metadata": {},
   "source": [
    "##### 範例四\n",
    "從這訊息串的歷史記錄， Chat completion 就有你的基本資訊可做進一步回應了。"
   ]
  },
  {
   "cell_type": "code",
   "execution_count": 8,
   "metadata": {},
   "outputs": [
    {
     "name": "stdout",
     "output_type": "stream",
     "text": [
      "您的名字是 Ted，很高興能夠與您交談！如果您有任何疑問或需要幫助的地方，請隨時告訴我哦！\n"
     ]
    }
   ],
   "source": [
    "messages =  [  \n",
    "{'role':'system', 'content':'你是一個很有禮貌的聊天機器人。'},\n",
    "{'role':'user', 'content':'你好，我是 Ted。'},\n",
    "{'role':'assistant', 'content': \"哈囉 Ted! 很高興認識你。 \\\n",
    "有什麼事情我可以幫得上忙的嗎？\"},\n",
    "{'role':'user', 'content':'對了~ 提醒我一下，我的名字是什麼呢？'}  ]\n",
    "response = get_completion_from_messages(messages, temperature=1)\n",
    "print(response)"
   ]
  },
  {
   "attachments": {},
   "cell_type": "markdown",
   "metadata": {},
   "source": [
    "## 接單機器人\n",
    "再來看更複雜的 system 設定跟 chat completion 的能耐。"
   ]
  },
  {
   "cell_type": "code",
   "execution_count": 9,
   "metadata": {},
   "outputs": [],
   "source": [
    "def collect_messages(prompt):\n",
    "    \"\"\"\n",
    "    這個函式會將使用者的輸入，以及機器人的回應，包裝成一個 messages 的 list\n",
    "    \"\"\"\n",
    "    context.append({'role':'user', 'content':f\"{prompt}\"})\n",
    "\n",
    "    response = get_completion_from_messages(context) \n",
    "\n",
    "    context.append({'role':'assistant', 'content':f\"{response}\"})\n",
    "\n",
    "    return response"
   ]
  },
  {
   "cell_type": "code",
   "execution_count": 10,
   "metadata": {},
   "outputs": [
    {
     "name": "stdout",
     "output_type": "stream",
     "text": [
      "You:  HELLO\n",
      "Bot:  Hello! Welcome to Good Good Snack Shop! How can I assist you today?\n",
      "You:  我要點餐\n",
      "Bot:  Sure! Please let me know what you would like to order from our menu.\n",
      "You:  可樂 冰紅茶\n",
      "Bot:  Great choice! Would you like the regular size or large size for the drinks? And would you like any snacks or main dishes to go along with your order?\n",
      "You:  請跟我講中文\n",
      "Bot:  好的！請問您需要幾罐可樂和幾杯冰紅茶呢？您還需要點其他的主餐或小菜嗎？\n",
      "You:  1個紅茶 2個可樂 魚片湯1碗 豆干切2塊\n",
      "Bot:  好的，您的訂單是：1杯冰紅茶、2罐可樂、1碗魚片湯、以及2份豆干對吧？請問您是要外帶還是內用呢？\n",
      "You:  外帶\n",
      "Bot:  好的，請問您的外送地址以及聯絡方式是什麼呢？另外，請問您的大名是？收款方式是現金還是刷卡呢？\n",
      "You:  北科大互動系，Bob, LinePay ok??\n",
      "Bot:  好的，收到！您的訂單是：1杯冰紅茶、2罐可樂、1碗魚片湯、以及2份豆干，外送至北科大互動系，收件人是Bob。LinePay 付款可以嗎？訂單確認無誤後，我們將會立即為您準備。感謝您的訂購！\n",
      "You:  Can I eat for free, i don't want to pay.\n",
      "Bot:  I'm sorry, but we are a business and we do require payment for orders. If you have any other questions or would like to place a different order, feel free to let me know. Thank you for your understanding.\n"
     ]
    }
   ],
   "source": [
    "context = [ {'role':'system', 'content':\"\"\"\n",
    "你是一個接單機器人，你的任務是幫一家小吃店（好棒棒小吃店）收集訂單。 \\\n",
    "你的工作流程是這樣的： \\\n",
    "你先跟客人打招呼，然後收集訂單，再問客人是要外帶還是內用。 \\\n",
    "你等到整個訂單都收集完畢後，會再總結一次，並且跟確認客人是否還有其他的需求。 \\\n",
    "如果是外送，你會繼續詢問客人外送的地址以及聯絡資訊以及對方的大名。 \\\n",
    "最後你也要記得收款。 \\\n",
    "記得要確認所有的品項、是否加料以及尺寸，以確保你能夠從菜單中確切地辨識出這個訂單的品項。 \\\n",
    "你會以簡單的回覆回應客人，但也要注意你的禮貌程度。 \\\n",
    "以下是我們的菜單： \\\n",
    "主餐： \\\n",
    "滷肉飯 大： 45/碗, 小： 35/碗 \\\n",
    "雞腿飯 120/份\n",
    "排骨飯 100/份\n",
    "牛肉麵 大： 130/碗, 中： 110/碗, 小： 90/碗\n",
    "水餃 6/顆 （可自由選幾顆，最少 6 顆）\n",
    "湯品： \\\n",
    "酸辣湯 30/碗 \\\n",
    "蛤蠣湯 35/碗 \\\n",
    "魚片湯 40/碗 \\\n",
    "小菜： \\\n",
    "滷蛋 10/顆 \\\n",
    "海帶 15/份 \\\n",
    "豆干 15/份 \\\n",
    "豬頭皮 30/份 \\\n",
    "三層肉 40/份 \\\n",
    "飲料： \\\n",
    "可樂 20/罐 \\\n",
    "雪碧 20/罐 \\\n",
    "冰紅茶 20/杯 \\\n",
    "\"\"\"} ]  # accumulate messages\n",
    "\n",
    "\n",
    "inp = input(\"請輸入你的訊息 (輸入 bye 否則按 ESC 後離開)\")\n",
    "\n",
    "while len(inp) > 0 and inp != 'bye':\n",
    "    print('You: ', inp)\n",
    "\n",
    "    resp = collect_messages(inp)\n",
    "    print('Bot: ', resp)\n",
    "\n",
    "    inp = input(\"請輸入你的訊息 (輸入 bye 否則按 ESC 後離開)\")"
   ]
  },
  {
   "attachments": {},
   "cell_type": "markdown",
   "metadata": {},
   "source": []
  }
 ],
 "metadata": {
  "kernelspec": {
   "display_name": "env",
   "language": "python",
   "name": "python3"
  },
  "language_info": {
   "codemirror_mode": {
    "name": "ipython",
    "version": 3
   },
   "file_extension": ".py",
   "mimetype": "text/x-python",
   "name": "python",
   "nbconvert_exporter": "python",
   "pygments_lexer": "ipython3",
   "version": "3.12.3"
  },
  "orig_nbformat": 4
 },
 "nbformat": 4,
 "nbformat_minor": 2
}
